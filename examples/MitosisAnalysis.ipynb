{
 "cells": [
  {
   "cell_type": "markdown",
   "metadata": {},
   "source": [
    "# Mitosis analysis\n",
    "In this example we analyze mitosis event in one of the datasets (DIC-C2DH-HeLa) from [Cell Tracking Challenge](http://celltrackingchallenge.net/2d-datasets/)\n",
    "\n",
    "`output` directory was generated with:\n",
    "```\n",
    "python .\\src\\export.py .\\data\\img\\ .\\data\\seg\\\n",
    "```\n",
    "Where img folder contains all iamges from 01 directory, and seg from the 01_ST"
   ]
  },
  {
   "cell_type": "code",
   "execution_count": 1,
   "metadata": {},
   "outputs": [],
   "source": [
    "import numpy as np\n",
    "from DescriptorLibUtils import DataExplorer"
   ]
  }
 ],
 "metadata": {
  "kernelspec": {
   "display_name": "env",
   "language": "python",
   "name": "python3"
  },
  "language_info": {
   "codemirror_mode": {
    "name": "ipython",
    "version": 3
   },
   "file_extension": ".py",
   "mimetype": "text/x-python",
   "name": "python",
   "nbconvert_exporter": "python",
   "pygments_lexer": "ipython3",
   "version": "3.10.7"
  }
 },
 "nbformat": 4,
 "nbformat_minor": 2
}
